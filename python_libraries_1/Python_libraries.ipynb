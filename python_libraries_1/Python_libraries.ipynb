{
  "cells": [
    {
      "cell_type": "markdown",
      "metadata": {
        "id": "9j0-QbHdkfAD"
      },
      "source": [
        "#Section 1: Foundational Concepts"
      ]
    },
    {
      "cell_type": "markdown",
      "metadata": {
        "id": "C4ke4J4BiKDe"
      },
      "source": [
        "##1 Purpose of data manipulation in the data science workflow\n"
      ]
    },
    {
      "cell_type": "markdown",
      "metadata": {
        "id": "zvMw_TOpkxRC"
      },
      "source": [
        "Increasing the quality of your data by handling null value, removing unnecessary attribures and extracting certain features to enhance the accuracy and utility of your models during training"
      ]
    },
    {
      "cell_type": "markdown",
      "metadata": {
        "id": "FH81e2b4iU9n"
      },
      "source": [
        "##2 Python Libraries used for data manipulation\n",
        "1. Numpy\n",
        "2. Pyspark\n",
        "3. Scikit*"
      ]
    },
    {
      "cell_type": "markdown",
      "metadata": {
        "id": "EqzTZESsif_o"
      },
      "source": [
        "##3 Key limitations of python lists when performing computations with Large datasets\n",
        "- Can only handle 2 dimensional data\n",
        "- Its inbuilt funtions don't intuituitively support numerical operations\n",
        "- Since its interpreted rather than compiled, it is significantly slower on larger datasets"
      ]
    },
    {
      "cell_type": "markdown",
      "metadata": {
        "id": "9r9vfl6Ki3FI"
      },
      "source": [
        "##4 Difference between how python lists and numpy Arrays handle addition of two lists/arrays"
      ]
    },
    {
      "cell_type": "markdown",
      "metadata": {
        "id": "rFb3Zl9cm8UZ"
      },
      "source": [
        "- In python lists: adding two arrays concatanates them increasing the length of the list\n",
        "- in numpy arrays: adding two arrays adds the corresponding elements in the similar indexed position(meaning you can only add arrays which are of the same order)"
      ]
    },
    {
      "cell_type": "markdown",
      "metadata": {
        "id": "S_QUZSHZjECW"
      },
      "source": [
        "##5 An ndarray"
      ]
    },
    {
      "cell_type": "markdown",
      "metadata": {
        "id": "jkv0H0kTnjyU"
      },
      "source": [
        "This is a matrix of datapoints which can initialized to any number of dimensions in the numpy library"
      ]
    },
    {
      "cell_type": "markdown",
      "metadata": {
        "id": "X52TcXn0jKUu"
      },
      "source": [
        "##6 Advantages of using Numpy arrays over Python lists for numberical computations"
      ]
    },
    {
      "cell_type": "markdown",
      "metadata": {
        "id": "0G0-ZH86n84Q"
      },
      "source": [
        "- Since numpy is written in C, numerical operations are much faster since the code is compiled\n",
        "- Can support a variable number of dimensional data\n",
        "- Operations are intuitive and written with numerical operations in mind making code much easier to write and understand"
      ]
    },
    {
      "cell_type": "markdown",
      "metadata": {
        "id": "KLDGnWtvjVHT"
      },
      "source": [
        "##7 Primary data structures Pandas introduces for working with tabular data and a brief description of each"
      ]
    },
    {
      "cell_type": "markdown",
      "metadata": {
        "id": "1woSxCmjogM9"
      },
      "source": [
        "- Series: This is a one dimensional data structure with a label similar to how a single column in excel might look like\n",
        "- DataFrame: This is 2 dimensional data structure which allows for different different data types in each column. You can also lable each column with a specific index for quick reference."
      ]
    },
    {
      "cell_type": "markdown",
      "metadata": {
        "id": "3VEGaZs-jrxs"
      },
      "source": [
        "##8 How Pandas simply working with tabular data compared to what Numpy primarily offers"
      ]
    },
    {
      "cell_type": "markdown",
      "metadata": {
        "id": "EsiUN-Mcpl6y"
      },
      "source": [
        "Because dataframe allow for different types of datatypes in different columns and you can index each column with a particular label rather than the default integer index, this allows for intuitive transfer of data from excel sheets to python whereas ndarrays only support a single data type in each ndarray and it less easier to refference each column independenlty."
      ]
    },
    {
      "cell_type": "markdown",
      "metadata": {
        "id": "hmLonZi-j3Yw"
      },
      "source": [
        "##9 Ways of accessing a column in a Pandas DataFrame with examples"
      ]
    },
    {
      "cell_type": "markdown",
      "metadata": {
        "id": "zNYyz0GAqijX"
      },
      "source": [
        "You use the the [] or .method way. Assume we have a dataframe initialzed as df with a column called age we can access it by\n",
        "- df.age\n",
        "- df['age']"
      ]
    },
    {
      "cell_type": "markdown",
      "metadata": {
        "id": "LdKuZ8aZkAfK"
      },
      "source": [
        "##10 What df.isnull().sum() tells us about a Dataframe in pandas and its importance in data cleaning\n",
        "The total number of null data points per column in our entire dataset"
      ]
    },
    {
      "cell_type": "markdown",
      "metadata": {
        "id": "1j9lTpPHkTT6"
      },
      "source": [
        "#Section 2: Foundational Data Exploration and Manipulation"
      ]
    },
    {
      "cell_type": "code",
      "execution_count": 2,
      "metadata": {
        "id": "HVL7z42H0btI"
      },
      "outputs": [],
      "source": [
        "#initializing the dataframe and importing pandas\n",
        "import pandas as pd\n",
        "\n",
        "df = pd.read_csv(\"https://raw.githubusercontent.com/justmarkham/DAT8/master/data/chipotle.tsv\", sep='\\t')"
      ]
    },
    {
      "cell_type": "markdown",
      "metadata": {
        "id": "u3jj6WXD0vYY"
      },
      "source": [
        "##1. Displaying last 7 rows of the DataFrame"
      ]
    },
    {
      "cell_type": "code",
      "execution_count": null,
      "metadata": {
        "colab": {
          "base_uri": "https://localhost:8080/"
        },
        "id": "ItsU8KVk04XI",
        "outputId": "035ee2b2-8633-4a5d-b1ee-a4b189e16100"
      },
      "outputs": [
        {
          "name": "stdout",
          "output_type": "stream",
          "text": [
            "      order_id  quantity            item_name  \\\n",
            "4615      1832         1   Chicken Soft Tacos   \n",
            "4616      1832         1  Chips and Guacamole   \n",
            "4617      1833         1        Steak Burrito   \n",
            "4618      1833         1        Steak Burrito   \n",
            "4619      1834         1   Chicken Salad Bowl   \n",
            "4620      1834         1   Chicken Salad Bowl   \n",
            "4621      1834         1   Chicken Salad Bowl   \n",
            "\n",
            "                                     choice_description item_price  \n",
            "4615   [Fresh Tomato Salsa, [Rice, Cheese, Sour Cream]]     $8.75   \n",
            "4616                                                NaN     $4.45   \n",
            "4617  [Fresh Tomato Salsa, [Rice, Black Beans, Sour ...    $11.75   \n",
            "4618  [Fresh Tomato Salsa, [Rice, Sour Cream, Cheese...    $11.75   \n",
            "4619  [Fresh Tomato Salsa, [Fajita Vegetables, Pinto...    $11.25   \n",
            "4620  [Fresh Tomato Salsa, [Fajita Vegetables, Lettu...     $8.75   \n",
            "4621  [Fresh Tomato Salsa, [Fajita Vegetables, Pinto...     $8.75   \n"
          ]
        }
      ],
      "source": [
        "print(df.tail(7))"
      ]
    },
    {
      "cell_type": "markdown",
      "metadata": {
        "id": "ydWiS7eV1a_5"
      },
      "source": [
        "##2. Summary of the DataFrame"
      ]
    },
    {
      "cell_type": "code",
      "execution_count": null,
      "metadata": {
        "colab": {
          "base_uri": "https://localhost:8080/",
          "height": 300
        },
        "id": "RgXb0zbZ1pqZ",
        "outputId": "dfdd3360-dca2-4d29-c7b4-cc0fb5ddd88d"
      },
      "outputs": [
        {
          "data": {
            "application/vnd.google.colaboratory.intrinsic+json": {
              "summary": "{\n  \"name\": \"df\",\n  \"rows\": 8,\n  \"fields\": [\n    {\n      \"column\": \"order_id\",\n      \"properties\": {\n        \"dtype\": \"number\",\n        \"std\": 1441.9860407220838,\n        \"min\": 1.0,\n        \"max\": 4622.0,\n        \"num_unique_values\": 8,\n        \"samples\": [\n          927.2548680225011,\n          926.0,\n          4622.0\n        ],\n        \"semantic_type\": \"\",\n        \"description\": \"\"\n      }\n    },\n    {\n      \"column\": \"quantity\",\n      \"properties\": {\n        \"dtype\": \"number\",\n        \"std\": 1633.0965283367182,\n        \"min\": 0.4101863342575426,\n        \"max\": 4622.0,\n        \"num_unique_values\": 5,\n        \"samples\": [\n          1.0757247944612722,\n          15.0,\n          0.4101863342575426\n        ],\n        \"semantic_type\": \"\",\n        \"description\": \"\"\n      }\n    }\n  ]\n}",
              "type": "dataframe"
            },
            "text/html": [
              "\n",
              "  <div id=\"df-e20fa26f-018a-4c9f-a575-8e097387b5e3\" class=\"colab-df-container\">\n",
              "    <div>\n",
              "<style scoped>\n",
              "    .dataframe tbody tr th:only-of-type {\n",
              "        vertical-align: middle;\n",
              "    }\n",
              "\n",
              "    .dataframe tbody tr th {\n",
              "        vertical-align: top;\n",
              "    }\n",
              "\n",
              "    .dataframe thead th {\n",
              "        text-align: right;\n",
              "    }\n",
              "</style>\n",
              "<table border=\"1\" class=\"dataframe\">\n",
              "  <thead>\n",
              "    <tr style=\"text-align: right;\">\n",
              "      <th></th>\n",
              "      <th>order_id</th>\n",
              "      <th>quantity</th>\n",
              "    </tr>\n",
              "  </thead>\n",
              "  <tbody>\n",
              "    <tr>\n",
              "      <th>count</th>\n",
              "      <td>4622.000000</td>\n",
              "      <td>4622.000000</td>\n",
              "    </tr>\n",
              "    <tr>\n",
              "      <th>mean</th>\n",
              "      <td>927.254868</td>\n",
              "      <td>1.075725</td>\n",
              "    </tr>\n",
              "    <tr>\n",
              "      <th>std</th>\n",
              "      <td>528.890796</td>\n",
              "      <td>0.410186</td>\n",
              "    </tr>\n",
              "    <tr>\n",
              "      <th>min</th>\n",
              "      <td>1.000000</td>\n",
              "      <td>1.000000</td>\n",
              "    </tr>\n",
              "    <tr>\n",
              "      <th>25%</th>\n",
              "      <td>477.250000</td>\n",
              "      <td>1.000000</td>\n",
              "    </tr>\n",
              "    <tr>\n",
              "      <th>50%</th>\n",
              "      <td>926.000000</td>\n",
              "      <td>1.000000</td>\n",
              "    </tr>\n",
              "    <tr>\n",
              "      <th>75%</th>\n",
              "      <td>1393.000000</td>\n",
              "      <td>1.000000</td>\n",
              "    </tr>\n",
              "    <tr>\n",
              "      <th>max</th>\n",
              "      <td>1834.000000</td>\n",
              "      <td>15.000000</td>\n",
              "    </tr>\n",
              "  </tbody>\n",
              "</table>\n",
              "</div>\n",
              "    <div class=\"colab-df-buttons\">\n",
              "\n",
              "  <div class=\"colab-df-container\">\n",
              "    <button class=\"colab-df-convert\" onclick=\"convertToInteractive('df-e20fa26f-018a-4c9f-a575-8e097387b5e3')\"\n",
              "            title=\"Convert this dataframe to an interactive table.\"\n",
              "            style=\"display:none;\">\n",
              "\n",
              "  <svg xmlns=\"http://www.w3.org/2000/svg\" height=\"24px\" viewBox=\"0 -960 960 960\">\n",
              "    <path d=\"M120-120v-720h720v720H120Zm60-500h600v-160H180v160Zm220 220h160v-160H400v160Zm0 220h160v-160H400v160ZM180-400h160v-160H180v160Zm440 0h160v-160H620v160ZM180-180h160v-160H180v160Zm440 0h160v-160H620v160Z\"/>\n",
              "  </svg>\n",
              "    </button>\n",
              "\n",
              "  <style>\n",
              "    .colab-df-container {\n",
              "      display:flex;\n",
              "      gap: 12px;\n",
              "    }\n",
              "\n",
              "    .colab-df-convert {\n",
              "      background-color: #E8F0FE;\n",
              "      border: none;\n",
              "      border-radius: 50%;\n",
              "      cursor: pointer;\n",
              "      display: none;\n",
              "      fill: #1967D2;\n",
              "      height: 32px;\n",
              "      padding: 0 0 0 0;\n",
              "      width: 32px;\n",
              "    }\n",
              "\n",
              "    .colab-df-convert:hover {\n",
              "      background-color: #E2EBFA;\n",
              "      box-shadow: 0px 1px 2px rgba(60, 64, 67, 0.3), 0px 1px 3px 1px rgba(60, 64, 67, 0.15);\n",
              "      fill: #174EA6;\n",
              "    }\n",
              "\n",
              "    .colab-df-buttons div {\n",
              "      margin-bottom: 4px;\n",
              "    }\n",
              "\n",
              "    [theme=dark] .colab-df-convert {\n",
              "      background-color: #3B4455;\n",
              "      fill: #D2E3FC;\n",
              "    }\n",
              "\n",
              "    [theme=dark] .colab-df-convert:hover {\n",
              "      background-color: #434B5C;\n",
              "      box-shadow: 0px 1px 3px 1px rgba(0, 0, 0, 0.15);\n",
              "      filter: drop-shadow(0px 1px 2px rgba(0, 0, 0, 0.3));\n",
              "      fill: #FFFFFF;\n",
              "    }\n",
              "  </style>\n",
              "\n",
              "    <script>\n",
              "      const buttonEl =\n",
              "        document.querySelector('#df-e20fa26f-018a-4c9f-a575-8e097387b5e3 button.colab-df-convert');\n",
              "      buttonEl.style.display =\n",
              "        google.colab.kernel.accessAllowed ? 'block' : 'none';\n",
              "\n",
              "      async function convertToInteractive(key) {\n",
              "        const element = document.querySelector('#df-e20fa26f-018a-4c9f-a575-8e097387b5e3');\n",
              "        const dataTable =\n",
              "          await google.colab.kernel.invokeFunction('convertToInteractive',\n",
              "                                                    [key], {});\n",
              "        if (!dataTable) return;\n",
              "\n",
              "        const docLinkHtml = 'Like what you see? Visit the ' +\n",
              "          '<a target=\"_blank\" href=https://colab.research.google.com/notebooks/data_table.ipynb>data table notebook</a>'\n",
              "          + ' to learn more about interactive tables.';\n",
              "        element.innerHTML = '';\n",
              "        dataTable['output_type'] = 'display_data';\n",
              "        await google.colab.output.renderOutput(dataTable, element);\n",
              "        const docLink = document.createElement('div');\n",
              "        docLink.innerHTML = docLinkHtml;\n",
              "        element.appendChild(docLink);\n",
              "      }\n",
              "    </script>\n",
              "  </div>\n",
              "\n",
              "\n",
              "    <div id=\"df-73b26f7f-39a4-47e5-87b2-56dff0e34b68\">\n",
              "      <button class=\"colab-df-quickchart\" onclick=\"quickchart('df-73b26f7f-39a4-47e5-87b2-56dff0e34b68')\"\n",
              "                title=\"Suggest charts\"\n",
              "                style=\"display:none;\">\n",
              "\n",
              "<svg xmlns=\"http://www.w3.org/2000/svg\" height=\"24px\"viewBox=\"0 0 24 24\"\n",
              "     width=\"24px\">\n",
              "    <g>\n",
              "        <path d=\"M19 3H5c-1.1 0-2 .9-2 2v14c0 1.1.9 2 2 2h14c1.1 0 2-.9 2-2V5c0-1.1-.9-2-2-2zM9 17H7v-7h2v7zm4 0h-2V7h2v10zm4 0h-2v-4h2v4z\"/>\n",
              "    </g>\n",
              "</svg>\n",
              "      </button>\n",
              "\n",
              "<style>\n",
              "  .colab-df-quickchart {\n",
              "      --bg-color: #E8F0FE;\n",
              "      --fill-color: #1967D2;\n",
              "      --hover-bg-color: #E2EBFA;\n",
              "      --hover-fill-color: #174EA6;\n",
              "      --disabled-fill-color: #AAA;\n",
              "      --disabled-bg-color: #DDD;\n",
              "  }\n",
              "\n",
              "  [theme=dark] .colab-df-quickchart {\n",
              "      --bg-color: #3B4455;\n",
              "      --fill-color: #D2E3FC;\n",
              "      --hover-bg-color: #434B5C;\n",
              "      --hover-fill-color: #FFFFFF;\n",
              "      --disabled-bg-color: #3B4455;\n",
              "      --disabled-fill-color: #666;\n",
              "  }\n",
              "\n",
              "  .colab-df-quickchart {\n",
              "    background-color: var(--bg-color);\n",
              "    border: none;\n",
              "    border-radius: 50%;\n",
              "    cursor: pointer;\n",
              "    display: none;\n",
              "    fill: var(--fill-color);\n",
              "    height: 32px;\n",
              "    padding: 0;\n",
              "    width: 32px;\n",
              "  }\n",
              "\n",
              "  .colab-df-quickchart:hover {\n",
              "    background-color: var(--hover-bg-color);\n",
              "    box-shadow: 0 1px 2px rgba(60, 64, 67, 0.3), 0 1px 3px 1px rgba(60, 64, 67, 0.15);\n",
              "    fill: var(--button-hover-fill-color);\n",
              "  }\n",
              "\n",
              "  .colab-df-quickchart-complete:disabled,\n",
              "  .colab-df-quickchart-complete:disabled:hover {\n",
              "    background-color: var(--disabled-bg-color);\n",
              "    fill: var(--disabled-fill-color);\n",
              "    box-shadow: none;\n",
              "  }\n",
              "\n",
              "  .colab-df-spinner {\n",
              "    border: 2px solid var(--fill-color);\n",
              "    border-color: transparent;\n",
              "    border-bottom-color: var(--fill-color);\n",
              "    animation:\n",
              "      spin 1s steps(1) infinite;\n",
              "  }\n",
              "\n",
              "  @keyframes spin {\n",
              "    0% {\n",
              "      border-color: transparent;\n",
              "      border-bottom-color: var(--fill-color);\n",
              "      border-left-color: var(--fill-color);\n",
              "    }\n",
              "    20% {\n",
              "      border-color: transparent;\n",
              "      border-left-color: var(--fill-color);\n",
              "      border-top-color: var(--fill-color);\n",
              "    }\n",
              "    30% {\n",
              "      border-color: transparent;\n",
              "      border-left-color: var(--fill-color);\n",
              "      border-top-color: var(--fill-color);\n",
              "      border-right-color: var(--fill-color);\n",
              "    }\n",
              "    40% {\n",
              "      border-color: transparent;\n",
              "      border-right-color: var(--fill-color);\n",
              "      border-top-color: var(--fill-color);\n",
              "    }\n",
              "    60% {\n",
              "      border-color: transparent;\n",
              "      border-right-color: var(--fill-color);\n",
              "    }\n",
              "    80% {\n",
              "      border-color: transparent;\n",
              "      border-right-color: var(--fill-color);\n",
              "      border-bottom-color: var(--fill-color);\n",
              "    }\n",
              "    90% {\n",
              "      border-color: transparent;\n",
              "      border-bottom-color: var(--fill-color);\n",
              "    }\n",
              "  }\n",
              "</style>\n",
              "\n",
              "      <script>\n",
              "        async function quickchart(key) {\n",
              "          const quickchartButtonEl =\n",
              "            document.querySelector('#' + key + ' button');\n",
              "          quickchartButtonEl.disabled = true;  // To prevent multiple clicks.\n",
              "          quickchartButtonEl.classList.add('colab-df-spinner');\n",
              "          try {\n",
              "            const charts = await google.colab.kernel.invokeFunction(\n",
              "                'suggestCharts', [key], {});\n",
              "          } catch (error) {\n",
              "            console.error('Error during call to suggestCharts:', error);\n",
              "          }\n",
              "          quickchartButtonEl.classList.remove('colab-df-spinner');\n",
              "          quickchartButtonEl.classList.add('colab-df-quickchart-complete');\n",
              "        }\n",
              "        (() => {\n",
              "          let quickchartButtonEl =\n",
              "            document.querySelector('#df-73b26f7f-39a4-47e5-87b2-56dff0e34b68 button');\n",
              "          quickchartButtonEl.style.display =\n",
              "            google.colab.kernel.accessAllowed ? 'block' : 'none';\n",
              "        })();\n",
              "      </script>\n",
              "    </div>\n",
              "\n",
              "    </div>\n",
              "  </div>\n"
            ],
            "text/plain": [
              "          order_id     quantity\n",
              "count  4622.000000  4622.000000\n",
              "mean    927.254868     1.075725\n",
              "std     528.890796     0.410186\n",
              "min       1.000000     1.000000\n",
              "25%     477.250000     1.000000\n",
              "50%     926.000000     1.000000\n",
              "75%    1393.000000     1.000000\n",
              "max    1834.000000    15.000000"
            ]
          },
          "execution_count": 5,
          "metadata": {},
          "output_type": "execute_result"
        }
      ],
      "source": [
        "df.describe()"
      ]
    },
    {
      "cell_type": "code",
      "execution_count": null,
      "metadata": {
        "colab": {
          "base_uri": "https://localhost:8080/"
        },
        "id": "Vc26ndLb1yrv",
        "outputId": "cc489dd1-d29a-49f4-bdf7-86d848fb9ad1"
      },
      "outputs": [
        {
          "name": "stdout",
          "output_type": "stream",
          "text": [
            "<class 'pandas.core.frame.DataFrame'>\n",
            "RangeIndex: 4622 entries, 0 to 4621\n",
            "Data columns (total 5 columns):\n",
            " #   Column              Non-Null Count  Dtype \n",
            "---  ------              --------------  ----- \n",
            " 0   order_id            4622 non-null   int64 \n",
            " 1   quantity            4622 non-null   int64 \n",
            " 2   item_name           4622 non-null   object\n",
            " 3   choice_description  3376 non-null   object\n",
            " 4   item_price          4622 non-null   object\n",
            "dtypes: int64(2), object(3)\n",
            "memory usage: 180.7+ KB\n"
          ]
        }
      ],
      "source": [
        "df.info()"
      ]
    },
    {
      "cell_type": "code",
      "execution_count": null,
      "metadata": {
        "colab": {
          "base_uri": "https://localhost:8080/",
          "height": 241
        },
        "id": "D-QZtg1H2pJ7",
        "outputId": "a5a9ace2-77d7-4e68-f3af-144ffd515dbc"
      },
      "outputs": [
        {
          "data": {
            "text/html": [
              "<div>\n",
              "<style scoped>\n",
              "    .dataframe tbody tr th:only-of-type {\n",
              "        vertical-align: middle;\n",
              "    }\n",
              "\n",
              "    .dataframe tbody tr th {\n",
              "        vertical-align: top;\n",
              "    }\n",
              "\n",
              "    .dataframe thead th {\n",
              "        text-align: right;\n",
              "    }\n",
              "</style>\n",
              "<table border=\"1\" class=\"dataframe\">\n",
              "  <thead>\n",
              "    <tr style=\"text-align: right;\">\n",
              "      <th></th>\n",
              "      <th>0</th>\n",
              "    </tr>\n",
              "  </thead>\n",
              "  <tbody>\n",
              "    <tr>\n",
              "      <th>order_id</th>\n",
              "      <td>0</td>\n",
              "    </tr>\n",
              "    <tr>\n",
              "      <th>quantity</th>\n",
              "      <td>0</td>\n",
              "    </tr>\n",
              "    <tr>\n",
              "      <th>item_name</th>\n",
              "      <td>0</td>\n",
              "    </tr>\n",
              "    <tr>\n",
              "      <th>choice_description</th>\n",
              "      <td>1246</td>\n",
              "    </tr>\n",
              "    <tr>\n",
              "      <th>item_price</th>\n",
              "      <td>0</td>\n",
              "    </tr>\n",
              "  </tbody>\n",
              "</table>\n",
              "</div><br><label><b>dtype:</b> int64</label>"
            ],
            "text/plain": [
              "order_id                 0\n",
              "quantity                 0\n",
              "item_name                0\n",
              "choice_description    1246\n",
              "item_price               0\n",
              "dtype: int64"
            ]
          },
          "execution_count": 7,
          "metadata": {},
          "output_type": "execute_result"
        }
      ],
      "source": [
        "df.isnull().sum()"
      ]
    },
    {
      "cell_type": "markdown",
      "metadata": {
        "id": "GLT4J8Mj16Np"
      },
      "source": [
        "###comments\n",
        "- The dataset has 5 columns and two of them are interger that is order_id an quantity. It has a total of 4622 rows\n",
        "- Only choice_description has null values(1246 in total) and the data seems to be a transaction table from hotel database.\n",
        "- Customers in this hotel averagely order a single of each menu item at a go with the highest quantity of a menu item having being 15\n",
        "- The dataset is using 180.7 Kb of memory for storage, quite small and can be manipulated on most modern computers."
      ]
    },
    {
      "cell_type": "markdown",
      "metadata": {
        "id": "RVNari7x4Yvk"
      },
      "source": [
        "##3. Observations with missing item_price"
      ]
    },
    {
      "cell_type": "code",
      "execution_count": 1,
      "metadata": {
        "colab": {
          "base_uri": "https://localhost:8080/",
          "height": 53
        },
        "id": "kyslCPg54dXl",
        "outputId": "cb328693-91cf-4819-d619-7e04d7004979"
      },
      "outputs": [
        {
          "ename": "NameError",
          "evalue": "name 'df' is not defined",
          "output_type": "error",
          "traceback": [
            "\u001b[31m---------------------------------------------------------------------------\u001b[39m",
            "\u001b[31mNameError\u001b[39m                                 Traceback (most recent call last)",
            "\u001b[36mCell\u001b[39m\u001b[36m \u001b[39m\u001b[32mIn[1]\u001b[39m\u001b[32m, line 1\u001b[39m\n\u001b[32m----> \u001b[39m\u001b[32m1\u001b[39m \u001b[43mdf\u001b[49m.item_price.isnull().sum()\n",
            "\u001b[31mNameError\u001b[39m: name 'df' is not defined"
          ]
        }
      ],
      "source": [
        "df.item_price.isnull().sum()"
      ]
    },
    {
      "cell_type": "markdown",
      "metadata": {
        "id": "PaPsTDNO5TW7"
      },
      "source": [
        "all rows have non-null item_price"
      ]
    },
    {
      "cell_type": "markdown",
      "metadata": {
        "id": "vzGaYFqb5bmM"
      },
      "source": [
        "##4. Names of all columns in the dataframe"
      ]
    },
    {
      "cell_type": "code",
      "execution_count": null,
      "metadata": {
        "colab": {
          "base_uri": "https://localhost:8080/"
        },
        "id": "J_zIBJZs5hlD",
        "outputId": "acebbeaf-f25b-46b0-8bbb-e86b1933a42e"
      },
      "outputs": [
        {
          "name": "stdout",
          "output_type": "stream",
          "text": [
            "Index(['order_id', 'quantity', 'item_name', 'choice_description',\n",
            "       'item_price'],\n",
            "      dtype='object')\n"
          ]
        }
      ],
      "source": [
        "print(df.columns)"
      ]
    },
    {
      "cell_type": "markdown",
      "metadata": {
        "id": "eevTrlkm6Zmm"
      },
      "source": [
        "##5. Item_name which appears most frequently in the orders"
      ]
    },
    {
      "cell_type": "code",
      "execution_count": null,
      "metadata": {
        "colab": {
          "base_uri": "https://localhost:8080/"
        },
        "id": "2aX4h1UP6YsP",
        "outputId": "afaa055a-d3d3-4a38-d431-cc34de9e1fa8"
      },
      "outputs": [
        {
          "name": "stdout",
          "output_type": "stream",
          "text": [
            "Chicken Bowl\n"
          ]
        }
      ],
      "source": [
        "print(df['item_name'].value_counts().idxmax())"
      ]
    },
    {
      "cell_type": "markdown",
      "metadata": {
        "id": "IBiY6F54C4Kx"
      },
      "source": [
        "- valuecounts method returns vales of each unique item price and their corresponing number of occurence. It is be default sorted in descending order and excludes the null values\n",
        "- idxmax method returns the index of the maximum value(idx max) from a list of values with their corresponding counts"
      ]
    },
    {
      "cell_type": "markdown",
      "metadata": {
        "id": "tui3wXi2cte5"
      },
      "source": [
        "##6. Number of distinct itemnames present in the dataset"
      ]
    },
    {
      "cell_type": "code",
      "execution_count": 10,
      "metadata": {
        "colab": {
          "base_uri": "https://localhost:8080/"
        },
        "id": "A9swdXDmc5hD",
        "outputId": "52709ecc-85e1-41be-da5e-faca6a098129"
      },
      "outputs": [
        {
          "name": "stdout",
          "output_type": "stream",
          "text": [
            "50\n"
          ]
        }
      ],
      "source": [
        "print(df.item_name.nunique())"
      ]
    },
    {
      "cell_type": "markdown",
      "metadata": {
        "id": "gj0dlvGketIW"
      },
      "source": [
        "- unique() method in Pandas returns the number of distinct items in a series while nunique returns the number of unique items"
      ]
    },
    {
      "cell_type": "markdown",
      "metadata": {
        "id": "HxrP6vPwe7qy"
      },
      "source": [
        "##7. New dataframe containing only \"Chicken_bowl\" in item name"
      ]
    },
    {
      "cell_type": "code",
      "execution_count": 13,
      "metadata": {
        "colab": {
          "base_uri": "https://localhost:8080/"
        },
        "id": "zpdGg-rSfObX",
        "outputId": "de953160-a36b-438e-fa08-f18707a573d9"
      },
      "outputs": [
        {
          "name": "stdout",
          "output_type": "stream",
          "text": [
            "      order_id  quantity     item_name  \\\n",
            "4            2         2  Chicken Bowl   \n",
            "5            3         1  Chicken Bowl   \n",
            "13           7         1  Chicken Bowl   \n",
            "19          10         1  Chicken Bowl   \n",
            "26          13         1  Chicken Bowl   \n",
            "...        ...       ...           ...   \n",
            "4590      1825         1  Chicken Bowl   \n",
            "4591      1825         1  Chicken Bowl   \n",
            "4595      1826         1  Chicken Bowl   \n",
            "4599      1827         1  Chicken Bowl   \n",
            "4604      1828         1  Chicken Bowl   \n",
            "\n",
            "                                     choice_description item_price  \n",
            "4     [Tomatillo-Red Chili Salsa (Hot), [Black Beans...    $16.98   \n",
            "5     [Fresh Tomato Salsa (Mild), [Rice, Cheese, Sou...    $10.98   \n",
            "13    [Fresh Tomato Salsa, [Fajita Vegetables, Rice,...    $11.25   \n",
            "19    [Tomatillo Red Chili Salsa, [Fajita Vegetables...     $8.75   \n",
            "26    [Roasted Chili Corn Salsa (Medium), [Pinto Bea...     $8.49   \n",
            "...                                                 ...        ...  \n",
            "4590  [Roasted Chili Corn Salsa, [Rice, Black Beans,...    $11.25   \n",
            "4591  [Tomatillo Red Chili Salsa, [Rice, Black Beans...     $8.75   \n",
            "4595  [Tomatillo Green Chili Salsa, [Rice, Black Bea...     $8.75   \n",
            "4599      [Roasted Chili Corn Salsa, [Cheese, Lettuce]]     $8.75   \n",
            "4604  [Fresh Tomato Salsa, [Rice, Black Beans, Chees...     $8.75   \n",
            "\n",
            "[726 rows x 5 columns]\n"
          ]
        }
      ],
      "source": [
        "df1 = df[df['item_name'] == 'Chicken Bowl']\n",
        "print(df1)"
      ]
    },
    {
      "cell_type": "markdown",
      "metadata": {
        "id": "GsocwjSCgsyU"
      },
      "source": [
        "##8. Converting item_price to float value"
      ]
    },
    {
      "cell_type": "code",
      "execution_count": 24,
      "metadata": {
        "colab": {
          "base_uri": "https://localhost:8080/",
          "height": 458
        },
        "id": "U7GhnGDAg1GT",
        "outputId": "05e03248-429b-4dd3-ea96-b64327de2547"
      },
      "outputs": [
        {
          "data": {
            "text/html": [
              "<div>\n",
              "<style scoped>\n",
              "    .dataframe tbody tr th:only-of-type {\n",
              "        vertical-align: middle;\n",
              "    }\n",
              "\n",
              "    .dataframe tbody tr th {\n",
              "        vertical-align: top;\n",
              "    }\n",
              "\n",
              "    .dataframe thead th {\n",
              "        text-align: right;\n",
              "    }\n",
              "</style>\n",
              "<table border=\"1\" class=\"dataframe\">\n",
              "  <thead>\n",
              "    <tr style=\"text-align: right;\">\n",
              "      <th></th>\n",
              "      <th>item_price</th>\n",
              "    </tr>\n",
              "  </thead>\n",
              "  <tbody>\n",
              "    <tr>\n",
              "      <th>0</th>\n",
              "      <td>2.39</td>\n",
              "    </tr>\n",
              "    <tr>\n",
              "      <th>1</th>\n",
              "      <td>3.39</td>\n",
              "    </tr>\n",
              "    <tr>\n",
              "      <th>2</th>\n",
              "      <td>3.39</td>\n",
              "    </tr>\n",
              "    <tr>\n",
              "      <th>3</th>\n",
              "      <td>2.39</td>\n",
              "    </tr>\n",
              "    <tr>\n",
              "      <th>4</th>\n",
              "      <td>16.98</td>\n",
              "    </tr>\n",
              "    <tr>\n",
              "      <th>...</th>\n",
              "      <td>...</td>\n",
              "    </tr>\n",
              "    <tr>\n",
              "      <th>4617</th>\n",
              "      <td>11.75</td>\n",
              "    </tr>\n",
              "    <tr>\n",
              "      <th>4618</th>\n",
              "      <td>11.75</td>\n",
              "    </tr>\n",
              "    <tr>\n",
              "      <th>4619</th>\n",
              "      <td>11.25</td>\n",
              "    </tr>\n",
              "    <tr>\n",
              "      <th>4620</th>\n",
              "      <td>8.75</td>\n",
              "    </tr>\n",
              "    <tr>\n",
              "      <th>4621</th>\n",
              "      <td>8.75</td>\n",
              "    </tr>\n",
              "  </tbody>\n",
              "</table>\n",
              "<p>4622 rows × 1 columns</p>\n",
              "</div><br><label><b>dtype:</b> float64</label>"
            ],
            "text/plain": [
              "0        2.39\n",
              "1        3.39\n",
              "2        3.39\n",
              "3        2.39\n",
              "4       16.98\n",
              "        ...  \n",
              "4617    11.75\n",
              "4618    11.75\n",
              "4619    11.25\n",
              "4620     8.75\n",
              "4621     8.75\n",
              "Name: item_price, Length: 4622, dtype: float64"
            ]
          },
          "execution_count": 24,
          "metadata": {},
          "output_type": "execute_result"
        }
      ],
      "source": [
        "df.item_price = df.item_price.apply(lambda x: x[1:]).astype(float)"
      ]
    },
    {
      "cell_type": "markdown",
      "metadata": {
        "id": "cWhUxY0xjES1"
      },
      "source": [
        "- apply() function passes the specified funtion to each item in the series hence allowing removal of the $ sign and conversion to float"
      ]
    },
    {
      "cell_type": "markdown",
      "metadata": {
        "id": "CadXFkP9kTbT"
      },
      "source": [
        "##9. Average Itemprice"
      ]
    },
    {
      "cell_type": "code",
      "execution_count": 29,
      "metadata": {
        "colab": {
          "base_uri": "https://localhost:8080/"
        },
        "id": "ORMYGBihkXiF",
        "outputId": "8c7e915d-4f1e-4f42-cacc-2f7d7e256df3"
      },
      "outputs": [
        {
          "data": {
            "text/plain": [
              "np.float64(7.464335785374297)"
            ]
          },
          "execution_count": 29,
          "metadata": {},
          "output_type": "execute_result"
        }
      ],
      "source": [
        "df.item_price.mean()"
      ]
    },
    {
      "cell_type": "markdown",
      "metadata": {
        "id": "Gii3AA3QlOgi"
      },
      "source": [
        "##10. Total number of unique items based on order Id Column"
      ]
    },
    {
      "cell_type": "code",
      "execution_count": 30,
      "metadata": {
        "colab": {
          "base_uri": "https://localhost:8080/"
        },
        "id": "GazMVhsIlTmr",
        "outputId": "574f9091-6447-46f0-a960-20af46fc52e3"
      },
      "outputs": [
        {
          "data": {
            "text/plain": [
              "1834"
            ]
          },
          "execution_count": 30,
          "metadata": {},
          "output_type": "execute_result"
        }
      ],
      "source": [
        "df.order_id.nunique()"
      ]
    }
  ],
  "metadata": {
    "colab": {
      "provenance": [],
      "toc_visible": true
    },
    "kernelspec": {
      "display_name": "Python 3",
      "name": "python3"
    },
    "language_info": {
      "codemirror_mode": {
        "name": "ipython",
        "version": 3
      },
      "file_extension": ".py",
      "mimetype": "text/x-python",
      "name": "python",
      "nbconvert_exporter": "python",
      "pygments_lexer": "ipython3",
      "version": "3.12.6"
    }
  },
  "nbformat": 4,
  "nbformat_minor": 0
}
