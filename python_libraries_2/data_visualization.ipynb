{
 "cells": [
  {
   "cell_type": "code",
   "execution_count": null,
   "id": "b77cfa6d",
   "metadata": {},
   "outputs": [],
   "source": [
    "import pandas as pd #importing datasets\n",
    "\n",
    "athletes = pd.read_csv(\"https://raw.githubusercontent.com/rfordatascience/tidytuesday/master/data/2021/2021-07-27/athlete_events.csv\")\n",
    "\n",
    "countries = pd.read_csv(\"https://raw.githubusercontent.com/google/dspl/master/samples/google/canonical/countries.csv\")"
   ]
  },
  {
   "cell_type": "markdown",
   "id": "89d81ccb",
   "metadata": {},
   "source": [
    "#Section 1: Matplotlib"
   ]
  },
  {
   "cell_type": "markdown",
   "id": "57ce603a",
   "metadata": {},
   "source": [
    "##1. Bar graph of the top 5 countries with highest number of atheltes"
   ]
  },
  {
   "cell_type": "markdown",
   "id": "9cc2f550",
   "metadata": {},
   "source": [
    "##2. Bar chart showing athletes counts by season"
   ]
  },
  {
   "cell_type": "markdown",
   "id": "b2d850ea",
   "metadata": {},
   "source": [
    "##3. Stacked bar graph for each medal type by gender"
   ]
  },
  {
   "cell_type": "markdown",
   "id": "47f91811",
   "metadata": {},
   "source": [
    "##4. Scatterplot of weight against age of athletes"
   ]
  },
  {
   "cell_type": "markdown",
   "id": "a1e39689",
   "metadata": {},
   "source": [
    "##5. Figure with scatter plot subplots for athletes height versus weight for Athletics, Gymnastics, Swimming and Cycling"
   ]
  },
  {
   "cell_type": "markdown",
   "id": "57915001",
   "metadata": {},
   "source": [
    "##6. Line graphs for number of athletes per hear and average height per year"
   ]
  },
  {
   "cell_type": "markdown",
   "id": "ef36889d",
   "metadata": {},
   "source": [
    "#Section 2: Seaborn"
   ]
  },
  {
   "cell_type": "markdown",
   "id": "28d93c53",
   "metadata": {},
   "source": [
    "##1. Height distribution by gender"
   ]
  },
  {
   "cell_type": "markdown",
   "id": "5b7c9fd9",
   "metadata": {},
   "source": [
    "##2. Histogram of athlete ages"
   ]
  },
  {
   "cell_type": "markdown",
   "id": "d43d09b3",
   "metadata": {},
   "source": [
    "#Section 3: Plotly"
   ]
  },
  {
   "cell_type": "markdown",
   "id": "e791298f",
   "metadata": {},
   "source": [
    "##1. Average height per year for Basketball, Volleyball, Athletics"
   ]
  },
  {
   "cell_type": "markdown",
   "id": "76695d36",
   "metadata": {},
   "source": [
    "#Section 4: Folium"
   ]
  },
  {
   "cell_type": "markdown",
   "id": "4c14d995",
   "metadata": {},
   "source": [
    "##1. Locations of  Kenya, Uganda, Burundi and Rwanda on a map"
   ]
  }
 ],
 "metadata": {
  "language_info": {
   "name": "python"
  }
 },
 "nbformat": 4,
 "nbformat_minor": 5
}
