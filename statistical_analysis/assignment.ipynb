{
 "cells": [
  {
   "cell_type": "markdown",
   "id": "718c39a8",
   "metadata": {},
   "source": [
    "#Section 1"
   ]
  },
  {
   "cell_type": "markdown",
   "id": "7c2d57cc",
   "metadata": {},
   "source": [
    "## 1. Definition of Sample and population"
   ]
  },
  {
   "cell_type": "markdown",
   "id": "26e9f601",
   "metadata": {},
   "source": [
    "- Sample is portion representative of the population under study\n",
    "- Population is all the entry point of a particular occurence under considerations and study"
   ]
  },
  {
   "cell_type": "markdown",
   "id": "412667c6",
   "metadata": {},
   "source": [
    "## 2. What confidence interval tell us"
   ]
  },
  {
   "cell_type": "markdown",
   "id": "53f83fd7",
   "metadata": {},
   "source": [
    "It tell us how confident we are with our estimated range of the population mean from the sample mean"
   ]
  },
  {
   "cell_type": "markdown",
   "id": "734005bb",
   "metadata": {},
   "source": [
    "## 3. An hypothesis"
   ]
  },
  {
   "cell_type": "markdown",
   "id": "9273711a",
   "metadata": {},
   "source": [
    "An informed assuption made about a particular phenomena which is tested to verify its accuracy"
   ]
  },
  {
   "cell_type": "markdown",
   "id": "8ab0d20a",
   "metadata": {},
   "source": [
    "## 4. Types of hypothesis"
   ]
  },
  {
   "cell_type": "markdown",
   "id": "515b6768",
   "metadata": {},
   "source": [
    "- Null hypothesis: its a statement we are trying to disprove and is stated in the negative form. eg The lowest temperature recorded in Nairobi is not below 16 degrees\n",
    "- Alternate hypothesis: a statement we accept as true if there is sufficient evidence eg The lowest temperature recorded in Nairobi is below 16 degrees"
   ]
  },
  {
   "cell_type": "markdown",
   "id": "44b72c64",
   "metadata": {},
   "source": [
    "## 5. Hypothesis testing and which type is tested"
   ]
  },
  {
   "cell_type": "markdown",
   "id": "5c6e046b",
   "metadata": {},
   "source": [
    "Its the process of verifying the accuracy and validity of a stated assumption\n",
    "We test Null hypothesis"
   ]
  },
  {
   "cell_type": "markdown",
   "id": "90e34bd4",
   "metadata": {},
   "source": [
    "## 6. Hypothesis testing process"
   ]
  },
  {
   "cell_type": "markdown",
   "id": "d5cb708d",
   "metadata": {},
   "source": [
    "1. State your hypothesis\n",
    "2. Choose your alpha value\n",
    "3. Perform statistical test depending on the nature of the data\n",
    "4. Calculate the p-value\n",
    "5. Make a decision to accept null hypothesis if P value is greater than alpha and if vice versa reject"
   ]
  },
  {
   "cell_type": "markdown",
   "id": "f5b21a50",
   "metadata": {},
   "source": [
    "## 7. Alpha"
   ]
  },
  {
   "cell_type": "markdown",
   "id": "6b216315",
   "metadata": {},
   "source": [
    "its the amount of error we are willing to accept as statistically insignificant"
   ]
  },
  {
   "cell_type": "markdown",
   "id": "71863dab",
   "metadata": {},
   "source": [
    "## 8. Relation between P value and alpha"
   ]
  },
  {
   "cell_type": "markdown",
   "id": "a641a24b",
   "metadata": {},
   "source": [
    "If the P value is greater than alpha, there is weak evidence against the null hypothesis and we consequently accept it as true\n",
    "If the P value is less than alpha, there is strong evidence against the hypothesis and we reject it"
   ]
  },
  {
   "cell_type": "markdown",
   "id": "a064f3c9",
   "metadata": {},
   "source": [
    "## 9. Assumptions on data for parametric test"
   ]
  },
  {
   "cell_type": "markdown",
   "id": "d642fe6f",
   "metadata": {},
   "source": [
    "- Data is normally distributed\n",
    "- The variance is equal"
   ]
  },
  {
   "cell_type": "markdown",
   "id": "ddfeaf45",
   "metadata": {},
   "source": [
    "##10. Test to determine normal distribution"
   ]
  },
  {
   "cell_type": "markdown",
   "id": "1828e9cf",
   "metadata": {},
   "source": [
    "Shapiro Wilk test for a small dataset"
   ]
  }
 ],
 "metadata": {
  "language_info": {
   "name": "python"
  }
 },
 "nbformat": 4,
 "nbformat_minor": 5
}
