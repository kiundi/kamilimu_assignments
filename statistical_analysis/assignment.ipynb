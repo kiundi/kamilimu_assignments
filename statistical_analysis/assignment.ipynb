{
  "cells": [
    {
      "cell_type": "markdown",
      "id": "718c39a8",
      "metadata": {
        "id": "718c39a8"
      },
      "source": [
        "#Section 1"
      ]
    },
    {
      "cell_type": "markdown",
      "id": "7c2d57cc",
      "metadata": {
        "id": "7c2d57cc"
      },
      "source": [
        "## 1. Definition of Sample and population"
      ]
    },
    {
      "cell_type": "markdown",
      "id": "26e9f601",
      "metadata": {
        "id": "26e9f601"
      },
      "source": [
        "- Sample is portion representative of the population under study\n",
        "- Population is all the entry point of a particular occurence under considerations and study"
      ]
    },
    {
      "cell_type": "markdown",
      "id": "412667c6",
      "metadata": {
        "id": "412667c6"
      },
      "source": [
        "## 2. What confidence interval tell us"
      ]
    },
    {
      "cell_type": "markdown",
      "id": "53f83fd7",
      "metadata": {
        "id": "53f83fd7"
      },
      "source": [
        "It tell us how confident we are with our estimated range of the population mean from the sample mean"
      ]
    },
    {
      "cell_type": "markdown",
      "id": "734005bb",
      "metadata": {
        "id": "734005bb"
      },
      "source": [
        "## 3. An hypothesis"
      ]
    },
    {
      "cell_type": "markdown",
      "id": "9273711a",
      "metadata": {
        "id": "9273711a"
      },
      "source": [
        "An informed assuption made about a particular phenomena which is tested to verify its accuracy"
      ]
    },
    {
      "cell_type": "markdown",
      "id": "8ab0d20a",
      "metadata": {
        "id": "8ab0d20a"
      },
      "source": [
        "## 4. Types of hypothesis"
      ]
    },
    {
      "cell_type": "markdown",
      "id": "515b6768",
      "metadata": {
        "id": "515b6768"
      },
      "source": [
        "- Null hypothesis: its a statement we are trying to disprove and is stated in the negative form. eg The lowest temperature recorded in Nairobi is not below 16 degrees\n",
        "- Alternate hypothesis: a statement we accept as true if there is sufficient evidence eg The lowest temperature recorded in Nairobi is below 16 degrees"
      ]
    },
    {
      "cell_type": "markdown",
      "id": "44b72c64",
      "metadata": {
        "id": "44b72c64"
      },
      "source": [
        "## 5. Hypothesis testing and which type is tested"
      ]
    },
    {
      "cell_type": "markdown",
      "id": "5c6e046b",
      "metadata": {
        "id": "5c6e046b"
      },
      "source": [
        "Its the process of verifying the accuracy and validity of a stated assumption\n",
        "We test Null hypothesis"
      ]
    },
    {
      "cell_type": "markdown",
      "id": "90e34bd4",
      "metadata": {
        "id": "90e34bd4"
      },
      "source": [
        "## 6. Hypothesis testing process"
      ]
    },
    {
      "cell_type": "markdown",
      "id": "d5cb708d",
      "metadata": {
        "id": "d5cb708d"
      },
      "source": [
        "1. State your hypothesis\n",
        "2. Choose your alpha value\n",
        "3. Perform statistical test depending on the nature of the data\n",
        "4. Calculate the p-value\n",
        "5. Make a decision to accept null hypothesis if P value is greater than alpha and if vice versa reject"
      ]
    },
    {
      "cell_type": "markdown",
      "id": "f5b21a50",
      "metadata": {
        "id": "f5b21a50"
      },
      "source": [
        "## 7. Alpha"
      ]
    },
    {
      "cell_type": "markdown",
      "id": "6b216315",
      "metadata": {
        "id": "6b216315"
      },
      "source": [
        "its the amount of error we are willing to accept as statistically insignificant"
      ]
    },
    {
      "cell_type": "markdown",
      "id": "71863dab",
      "metadata": {
        "id": "71863dab"
      },
      "source": [
        "## 8. Relation between P value and alpha"
      ]
    },
    {
      "cell_type": "markdown",
      "id": "a641a24b",
      "metadata": {
        "id": "a641a24b"
      },
      "source": [
        "If the P value is greater than alpha, there is weak evidence against the null hypothesis and we consequently accept it as true\n",
        "If the P value is less than alpha, there is strong evidence against the hypothesis and we reject it"
      ]
    },
    {
      "cell_type": "markdown",
      "id": "a064f3c9",
      "metadata": {
        "id": "a064f3c9"
      },
      "source": [
        "## 9. Assumptions on data for parametric test"
      ]
    },
    {
      "cell_type": "markdown",
      "id": "d642fe6f",
      "metadata": {
        "id": "d642fe6f"
      },
      "source": [
        "- Data is normally distributed\n",
        "- The variance is equal"
      ]
    },
    {
      "cell_type": "markdown",
      "id": "ddfeaf45",
      "metadata": {
        "id": "ddfeaf45"
      },
      "source": [
        "##10. Test to determine normal distribution"
      ]
    },
    {
      "cell_type": "markdown",
      "id": "1828e9cf",
      "metadata": {
        "id": "1828e9cf"
      },
      "source": [
        "Shapiro Wilk test for a small dataset"
      ]
    },
    {
      "cell_type": "markdown",
      "source": [
        "#Section 2"
      ],
      "metadata": {
        "id": "0onsTw2HXI4N"
      },
      "id": "0onsTw2HXI4N"
    },
    {
      "cell_type": "code",
      "source": [
        "import pandas as pd #initializing the dataset\n",
        "\n",
        "athletes = pd.read_csv(\"https://raw.githubusercontent.com/rfordatascience/tidytuesday/master/data/2021/2021-07-27/athlete_events.csv\")"
      ],
      "metadata": {
        "id": "S1Q08l84YVr_"
      },
      "id": "S1Q08l84YVr_",
      "execution_count": 1,
      "outputs": []
    },
    {
      "cell_type": "markdown",
      "source": [
        "##a)"
      ],
      "metadata": {
        "id": "djPcnBpeYFfD"
      },
      "id": "djPcnBpeYFfD"
    },
    {
      "cell_type": "markdown",
      "source": [
        "- Null hypothesis - The average male olympian height is not the same as the average female olympian height\n",
        "- Alternate hypothesis - The average male olympian height is the same as the average female olympian height"
      ],
      "metadata": {
        "id": "Cv4PQow-XOK5"
      },
      "id": "Cv4PQow-XOK5"
    },
    {
      "cell_type": "markdown",
      "source": [
        "##c) Preparing the dataset"
      ],
      "metadata": {
        "id": "IWPaVQydeKJ9"
      },
      "id": "IWPaVQydeKJ9"
    },
    {
      "cell_type": "code",
      "source": [
        "athletes.head(10)"
      ],
      "metadata": {
        "id": "Kk0EoS0pZIGB",
        "outputId": "20925751-8530-4a3e-c48d-3fd27f485de4",
        "colab": {
          "base_uri": "https://localhost:8080/",
          "height": 178
        }
      },
      "id": "Kk0EoS0pZIGB",
      "execution_count": 35,
      "outputs": [
        {
          "output_type": "execute_result",
          "data": {
            "text/plain": [
              "Height\n",
              "False    210945\n",
              "True      60171\n",
              "Name: count, dtype: int64"
            ],
            "text/html": [
              "<div>\n",
              "<style scoped>\n",
              "    .dataframe tbody tr th:only-of-type {\n",
              "        vertical-align: middle;\n",
              "    }\n",
              "\n",
              "    .dataframe tbody tr th {\n",
              "        vertical-align: top;\n",
              "    }\n",
              "\n",
              "    .dataframe thead th {\n",
              "        text-align: right;\n",
              "    }\n",
              "</style>\n",
              "<table border=\"1\" class=\"dataframe\">\n",
              "  <thead>\n",
              "    <tr style=\"text-align: right;\">\n",
              "      <th></th>\n",
              "      <th>count</th>\n",
              "    </tr>\n",
              "    <tr>\n",
              "      <th>Height</th>\n",
              "      <th></th>\n",
              "    </tr>\n",
              "  </thead>\n",
              "  <tbody>\n",
              "    <tr>\n",
              "      <th>False</th>\n",
              "      <td>210945</td>\n",
              "    </tr>\n",
              "    <tr>\n",
              "      <th>True</th>\n",
              "      <td>60171</td>\n",
              "    </tr>\n",
              "  </tbody>\n",
              "</table>\n",
              "</div><br><label><b>dtype:</b> int64</label>"
            ]
          },
          "metadata": {},
          "execution_count": 35
        }
      ]
    },
    {
      "cell_type": "code",
      "source": [
        "athletes['Height'].dropna()"
      ],
      "metadata": {
        "id": "q0enz0OFYmJV",
        "outputId": "a0533281-31ef-4d0e-8e45-c16fb41cdc4a",
        "colab": {
          "base_uri": "https://localhost:8080/",
          "height": 458
        }
      },
      "id": "q0enz0OFYmJV",
      "execution_count": 36,
      "outputs": [
        {
          "output_type": "execute_result",
          "data": {
            "text/plain": [
              "0         False\n",
              "1         False\n",
              "2          True\n",
              "3          True\n",
              "4         False\n",
              "          ...  \n",
              "271111    False\n",
              "271112    False\n",
              "271113    False\n",
              "271114    False\n",
              "271115    False\n",
              "Name: Height, Length: 271116, dtype: bool"
            ],
            "text/html": [
              "<div>\n",
              "<style scoped>\n",
              "    .dataframe tbody tr th:only-of-type {\n",
              "        vertical-align: middle;\n",
              "    }\n",
              "\n",
              "    .dataframe tbody tr th {\n",
              "        vertical-align: top;\n",
              "    }\n",
              "\n",
              "    .dataframe thead th {\n",
              "        text-align: right;\n",
              "    }\n",
              "</style>\n",
              "<table border=\"1\" class=\"dataframe\">\n",
              "  <thead>\n",
              "    <tr style=\"text-align: right;\">\n",
              "      <th></th>\n",
              "      <th>Height</th>\n",
              "    </tr>\n",
              "  </thead>\n",
              "  <tbody>\n",
              "    <tr>\n",
              "      <th>0</th>\n",
              "      <td>False</td>\n",
              "    </tr>\n",
              "    <tr>\n",
              "      <th>1</th>\n",
              "      <td>False</td>\n",
              "    </tr>\n",
              "    <tr>\n",
              "      <th>2</th>\n",
              "      <td>True</td>\n",
              "    </tr>\n",
              "    <tr>\n",
              "      <th>3</th>\n",
              "      <td>True</td>\n",
              "    </tr>\n",
              "    <tr>\n",
              "      <th>4</th>\n",
              "      <td>False</td>\n",
              "    </tr>\n",
              "    <tr>\n",
              "      <th>...</th>\n",
              "      <td>...</td>\n",
              "    </tr>\n",
              "    <tr>\n",
              "      <th>271111</th>\n",
              "      <td>False</td>\n",
              "    </tr>\n",
              "    <tr>\n",
              "      <th>271112</th>\n",
              "      <td>False</td>\n",
              "    </tr>\n",
              "    <tr>\n",
              "      <th>271113</th>\n",
              "      <td>False</td>\n",
              "    </tr>\n",
              "    <tr>\n",
              "      <th>271114</th>\n",
              "      <td>False</td>\n",
              "    </tr>\n",
              "    <tr>\n",
              "      <th>271115</th>\n",
              "      <td>False</td>\n",
              "    </tr>\n",
              "  </tbody>\n",
              "</table>\n",
              "<p>271116 rows × 1 columns</p>\n",
              "</div><br><label><b>dtype:</b> bool</label>"
            ]
          },
          "metadata": {},
          "execution_count": 36
        }
      ]
    }
  ],
  "metadata": {
    "language_info": {
      "name": "python"
    },
    "colab": {
      "provenance": [],
      "toc_visible": true
    },
    "kernelspec": {
      "name": "python3",
      "display_name": "Python 3"
    }
  },
  "nbformat": 4,
  "nbformat_minor": 5
}